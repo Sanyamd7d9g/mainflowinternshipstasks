{
 "cells": [
  {
   "cell_type": "code",
   "execution_count": 39,
   "id": "d16cf32b-f488-4328-9bc1-e9f922c24871",
   "metadata": {},
   "outputs": [
    {
     "name": "stdout",
     "output_type": "stream",
     "text": [
      "   age  salary  years_at_company_amazon experience_level  \\\n",
      "0   24   50000                        1           Junior   \n",
      "1   26   65000                        2           Junior   \n",
      "2   27   72000                        4           Junior   \n",
      "3   29   80000                        5              Mid   \n",
      "4   38  150000                        7              Mid   \n",
      "5   40  175000                        9           Senior   \n",
      "6   47  250000                       10           Senior   \n",
      "7   51  300000                       12           Senior   \n",
      "8   62  380000                       13           Senior   \n",
      "\n",
      "   age_salary_interaction  \n",
      "0                 1200000  \n",
      "1                 1690000  \n",
      "2                 1944000  \n",
      "3                 2320000  \n",
      "4                 5700000  \n",
      "5                 7000000  \n",
      "6                11750000  \n",
      "7                15300000  \n",
      "8                23560000  \n"
     ]
    }
   ],
   "source": [
    "import pandas as pd\n",
    "\n",
    "# Sample DataFrame\n",
    "data = {\n",
    "    'age':    [24, 26, 27, 29, 38, 40, 47, 51, 62 ],\n",
    "    'salary': [50000, 65000, 72000, 80000, 150000, 175000, 250000, 300000, 380000],\n",
    "    'years_at_company_amazon': [1, 2, 4, 5, 7, 9, 10, 12, 13 ]\n",
    "}\n",
    "\n",
    "df = pd.DataFrame(data)\n",
    "\n",
    "# Creating a new feature: Experience Level\n",
    "df['experience_level'] = pd.cut(df['years_at_company_amazon'], bins=[0, 4, 8, 15], labels=['Junior', 'Mid', 'Senior'])\n",
    "\n",
    "# Creating interaction feature: Age * Salary\n",
    "df['age_salary_interaction'] = df['age'] * df['salary']\n",
    "\n",
    "# Display the modified DataFrame\n",
    "print(df)\n"
   ]
  },
  {
   "cell_type": "code",
   "execution_count": 13,
   "id": "7983b053-ce83-4420-a668-d92c3e03781f",
   "metadata": {},
   "outputs": [
    {
     "name": "stdout",
     "output_type": "stream",
     "text": [
      "        PC1       PC2\n",
      "0  2.453217 -0.238571\n",
      "1  1.369587  0.120639\n",
      "2 -0.324333  0.308694\n",
      "3 -1.203129  0.075348\n",
      "4 -2.295341 -0.266110\n"
     ]
    }
   ],
   "source": [
    "from sklearn.decomposition import PCA\n",
    "from sklearn.preprocessing import StandardScaler\n",
    "\n",
    "# Standardizing the features\n",
    "scaler = StandardScaler()\n",
    "scaled_features = scaler.fit_transform(df[['age', 'salary', 'years_at_company']])\n",
    "\n",
    "# Applying PCA\n",
    "pca = PCA(n_components=2)\n",
    "principal_components = pca.fit_transform(scaled_features)\n",
    "\n",
    "# Convert to DataFrame\n",
    "pca_df = pd.DataFrame(data=principal_components, columns=['PC1', 'PC2'])\n",
    "print(pca_df)\n"
   ]
  },
  {
   "cell_type": "code",
   "execution_count": 7,
   "id": "0b5a8700-6fda-4cdb-87ab-ac3ec8dfd70d",
   "metadata": {},
   "outputs": [
    {
     "name": "stdout",
     "output_type": "stream",
     "text": [
      "     Feature  Importance\n",
      "3  Feature 3    0.525202\n",
      "1  Feature 1    0.312829\n",
      "0  Feature 0    0.083347\n",
      "2  Feature 2    0.041214\n",
      "4  Feature 4    0.037408\n"
     ]
    }
   ],
   "source": [
    "from sklearn.ensemble import RandomForestClassifier\n",
    "from sklearn.datasets import make_classification\n",
    "\n",
    "# Generating a sample dataset\n",
    "X, y = make_classification(n_samples=100, n_features=5, random_state=42)\n",
    "\n",
    "# Training a Random Forest model\n",
    "model = RandomForestClassifier()\n",
    "model.fit(X, y)\n",
    "\n",
    "# Extracting feature importances\n",
    "importances = model.feature_importances_\n",
    "feature_names = [f'Feature {i}' for i in range(X.shape[1])]\n",
    "\n",
    "# Displaying feature importances\n",
    "importance_df = pd.DataFrame({'Feature': feature_names, 'Importance': importances})\n",
    "importance_df = importance_df.sort_values(by='Importance', ascending=False)\n",
    "print(importance_df)\n"
   ]
  },
  {
   "cell_type": "code",
   "execution_count": 15,
   "id": "06a79652-6449-4905-9a6c-4b2c9458611b",
   "metadata": {},
   "outputs": [
    {
     "name": "stdout",
     "output_type": "stream",
     "text": [
      "Selected Features: ['Feature 0', 'Feature 1', 'Feature 3']\n"
     ]
    }
   ],
   "source": [
    "from sklearn.feature_selection import RFE\n",
    "from sklearn.linear_model import LogisticRegression\n",
    "\n",
    "# Initializing a Logistic Regression model\n",
    "model = LogisticRegression()\n",
    "\n",
    "# Running RFE to select the top 3 features\n",
    "rfe = RFE(model, n_features_to_select=3)\n",
    "fit = rfe.fit(X, y)\n",
    "\n",
    "# Selecting the features\n",
    "selected_features = [feature_names[i] for i in range(len(feature_names)) if fit.support_[i]]\n",
    "print(f\"Selected Features: {selected_features}\")\n"
   ]
  },
  {
   "cell_type": "code",
   "execution_count": null,
   "id": "e2efd31c-0f7a-491a-ada6-678a37aa7c87",
   "metadata": {},
   "outputs": [],
   "source": []
  }
 ],
 "metadata": {
  "kernelspec": {
   "display_name": "Python 3 (ipykernel)",
   "language": "python",
   "name": "python3"
  },
  "language_info": {
   "codemirror_mode": {
    "name": "ipython",
    "version": 3
   },
   "file_extension": ".py",
   "mimetype": "text/x-python",
   "name": "python",
   "nbconvert_exporter": "python",
   "pygments_lexer": "ipython3",
   "version": "3.11.7"
  }
 },
 "nbformat": 4,
 "nbformat_minor": 5
}
